{
 "cells": [
  {
   "cell_type": "code",
   "execution_count": 45,
   "metadata": {},
   "outputs": [],
   "source": [
    "import datetime as dt\n",
    "import meteomatics.api as api\n",
    "from __future__ import print_function\n",
    "import pandas as pd\n",
    "import numpy as np"
   ]
  },
  {
   "cell_type": "code",
   "execution_count": 46,
   "metadata": {},
   "outputs": [],
   "source": [
    "username = 'cantuantunez_juanmanuel'\n",
    "password = '6Hce5Di66K'"
   ]
  },
  {
   "cell_type": "code",
   "execution_count": 47,
   "metadata": {},
   "outputs": [],
   "source": [
    "now = dt.datetime.utcnow().replace(hour=0, minute=0, second=0, microsecond=0)\n",
    "startdate_ts = '2024-09-01T00:00:00+00:00'\n",
    "startdate_ts = dt.datetime.strptime(startdate_ts, '%Y-%m-%dT%H:%M:%S%z')\n",
    "enddate_ts = startdate_ts + dt.timedelta(days=30)\n",
    "interval_ts = dt.timedelta(hours=1)"
   ]
  },
  {
   "cell_type": "code",
   "execution_count": 48,
   "metadata": {},
   "outputs": [],
   "source": [
    "coordinates_ts = [(25.25863754474608, -99.68200619248428)]"
   ]
  },
  {
   "cell_type": "code",
   "execution_count": 49,
   "metadata": {},
   "outputs": [],
   "source": [
    "parameters_ts = ['grass_land_temperature_sum:C', 'evapotranspiration_24h:mm', 'leaf_wetness:idx', 'soil_moisture_index_-5cm:idx', 'volumetric_soil_water_-5cm:m3m3', 'soil_moisture_index_-15cm:idx','volumetric_soil_water_-15cm:m3m3', 'soil_moisture_index_-50cm:idx', 'volumetric_soil_water_-50cm:m3m3']"
   ]
  },
  {
   "cell_type": "code",
   "execution_count": 50,
   "metadata": {},
   "outputs": [
    {
     "name": "stdout",
     "output_type": "stream",
     "text": [
      "DataFrame Agricultural Parameters:\n",
      "                                                grass_land_temperature_sum:C  \\\n",
      "lat       lon        validdate                                                 \n",
      "25.258638 -99.682006 2024-09-01 00:00:00+00:00                        5677.5   \n",
      "                     2024-09-01 01:00:00+00:00                        5677.5   \n",
      "                     2024-09-01 02:00:00+00:00                        5677.5   \n",
      "                     2024-09-01 03:00:00+00:00                        5677.5   \n",
      "                     2024-09-01 04:00:00+00:00                        5677.5   \n",
      "\n",
      "                                                evapotranspiration_24h:mm  \\\n",
      "lat       lon        validdate                                              \n",
      "25.258638 -99.682006 2024-09-01 00:00:00+00:00                       2.74   \n",
      "                     2024-09-01 01:00:00+00:00                       2.73   \n",
      "                     2024-09-01 02:00:00+00:00                       2.73   \n",
      "                     2024-09-01 03:00:00+00:00                       2.73   \n",
      "                     2024-09-01 04:00:00+00:00                       2.73   \n",
      "\n",
      "                                                leaf_wetness:idx  \\\n",
      "lat       lon        validdate                                     \n",
      "25.258638 -99.682006 2024-09-01 00:00:00+00:00               1.0   \n",
      "                     2024-09-01 01:00:00+00:00               1.0   \n",
      "                     2024-09-01 02:00:00+00:00               1.0   \n",
      "                     2024-09-01 03:00:00+00:00               1.0   \n",
      "                     2024-09-01 04:00:00+00:00               1.0   \n",
      "\n",
      "                                                soil_moisture_index_-5cm:idx  \\\n",
      "lat       lon        validdate                                                 \n",
      "25.258638 -99.682006 2024-09-01 00:00:00+00:00                         1.293   \n",
      "                     2024-09-01 01:00:00+00:00                         1.132   \n",
      "                     2024-09-01 02:00:00+00:00                         1.109   \n",
      "                     2024-09-01 03:00:00+00:00                         1.090   \n",
      "                     2024-09-01 04:00:00+00:00                         1.070   \n",
      "\n",
      "                                                volumetric_soil_water_-5cm:m3m3  \\\n",
      "lat       lon        validdate                                                    \n",
      "25.258638 -99.682006 2024-09-01 00:00:00+00:00                             0.40   \n",
      "                     2024-09-01 01:00:00+00:00                             0.38   \n",
      "                     2024-09-01 02:00:00+00:00                             0.37   \n",
      "                     2024-09-01 03:00:00+00:00                             0.37   \n",
      "                     2024-09-01 04:00:00+00:00                             0.37   \n",
      "\n",
      "                                                soil_moisture_index_-15cm:idx  \\\n",
      "lat       lon        validdate                                                  \n",
      "25.258638 -99.682006 2024-09-01 00:00:00+00:00                          0.633   \n",
      "                     2024-09-01 01:00:00+00:00                          0.291   \n",
      "                     2024-09-01 02:00:00+00:00                          0.299   \n",
      "                     2024-09-01 03:00:00+00:00                          0.306   \n",
      "                     2024-09-01 04:00:00+00:00                          0.312   \n",
      "\n",
      "                                                volumetric_soil_water_-15cm:m3m3  \\\n",
      "lat       lon        validdate                                                     \n",
      "25.258638 -99.682006 2024-09-01 00:00:00+00:00                              0.26   \n",
      "                     2024-09-01 01:00:00+00:00                              0.22   \n",
      "                     2024-09-01 02:00:00+00:00                              0.22   \n",
      "                     2024-09-01 03:00:00+00:00                              0.23   \n",
      "                     2024-09-01 04:00:00+00:00                              0.23   \n",
      "\n",
      "                                                soil_moisture_index_-50cm:idx  \\\n",
      "lat       lon        validdate                                                  \n",
      "25.258638 -99.682006 2024-09-01 00:00:00+00:00                          0.160   \n",
      "                     2024-09-01 01:00:00+00:00                          0.163   \n",
      "                     2024-09-01 02:00:00+00:00                          0.163   \n",
      "                     2024-09-01 03:00:00+00:00                          0.163   \n",
      "                     2024-09-01 04:00:00+00:00                          0.163   \n",
      "\n",
      "                                                volumetric_soil_water_-50cm:m3m3  \n",
      "lat       lon        validdate                                                    \n",
      "25.258638 -99.682006 2024-09-01 00:00:00+00:00                              0.19  \n",
      "                     2024-09-01 01:00:00+00:00                              0.19  \n",
      "                     2024-09-01 02:00:00+00:00                              0.19  \n",
      "                     2024-09-01 03:00:00+00:00                              0.19  \n",
      "                     2024-09-01 04:00:00+00:00                              0.19  \n"
     ]
    }
   ],
   "source": [
    "print(\"DataFrame Agricultural Parameters:\")\n",
    "try:\n",
    "    df = api.query_time_series(coordinates_ts, startdate_ts, enddate_ts, interval_ts,\n",
    "                                  parameters_ts, username, password)\n",
    "    print (df.head())\n",
    "except Exception as e:\n",
    "    print(\"Failed, the exception is {}\".format(e))"
   ]
  },
  {
   "cell_type": "code",
   "execution_count": 51,
   "metadata": {},
   "outputs": [
    {
     "data": {
      "text/plain": [
       "(721, 9)"
      ]
     },
     "execution_count": 51,
     "metadata": {},
     "output_type": "execute_result"
    }
   ],
   "source": [
    "df.shape"
   ]
  },
  {
   "cell_type": "code",
   "execution_count": 52,
   "metadata": {},
   "outputs": [
    {
     "data": {
      "text/html": [
       "<div>\n",
       "<style scoped>\n",
       "    .dataframe tbody tr th:only-of-type {\n",
       "        vertical-align: middle;\n",
       "    }\n",
       "\n",
       "    .dataframe tbody tr th {\n",
       "        vertical-align: top;\n",
       "    }\n",
       "\n",
       "    .dataframe thead th {\n",
       "        text-align: right;\n",
       "    }\n",
       "</style>\n",
       "<table border=\"1\" class=\"dataframe\">\n",
       "  <thead>\n",
       "    <tr style=\"text-align: right;\">\n",
       "      <th></th>\n",
       "      <th></th>\n",
       "      <th></th>\n",
       "      <th>grass_land_temperature_sum:C</th>\n",
       "      <th>evapotranspiration_24h:mm</th>\n",
       "      <th>leaf_wetness:idx</th>\n",
       "      <th>soil_moisture_index_-5cm:idx</th>\n",
       "      <th>volumetric_soil_water_-5cm:m3m3</th>\n",
       "      <th>soil_moisture_index_-15cm:idx</th>\n",
       "      <th>volumetric_soil_water_-15cm:m3m3</th>\n",
       "      <th>soil_moisture_index_-50cm:idx</th>\n",
       "      <th>volumetric_soil_water_-50cm:m3m3</th>\n",
       "    </tr>\n",
       "    <tr>\n",
       "      <th>lat</th>\n",
       "      <th>lon</th>\n",
       "      <th>validdate</th>\n",
       "      <th></th>\n",
       "      <th></th>\n",
       "      <th></th>\n",
       "      <th></th>\n",
       "      <th></th>\n",
       "      <th></th>\n",
       "      <th></th>\n",
       "      <th></th>\n",
       "      <th></th>\n",
       "    </tr>\n",
       "  </thead>\n",
       "  <tbody>\n",
       "    <tr>\n",
       "      <th rowspan=\"5\" valign=\"top\">25.258638</th>\n",
       "      <th rowspan=\"5\" valign=\"top\">-99.682006</th>\n",
       "      <th>2024-09-01 00:00:00+00:00</th>\n",
       "      <td>5677.5</td>\n",
       "      <td>2.74</td>\n",
       "      <td>1.0</td>\n",
       "      <td>1.293</td>\n",
       "      <td>0.40</td>\n",
       "      <td>0.633</td>\n",
       "      <td>0.26</td>\n",
       "      <td>0.160</td>\n",
       "      <td>0.19</td>\n",
       "    </tr>\n",
       "    <tr>\n",
       "      <th>2024-09-01 01:00:00+00:00</th>\n",
       "      <td>5677.5</td>\n",
       "      <td>2.73</td>\n",
       "      <td>1.0</td>\n",
       "      <td>1.132</td>\n",
       "      <td>0.38</td>\n",
       "      <td>0.291</td>\n",
       "      <td>0.22</td>\n",
       "      <td>0.163</td>\n",
       "      <td>0.19</td>\n",
       "    </tr>\n",
       "    <tr>\n",
       "      <th>2024-09-01 02:00:00+00:00</th>\n",
       "      <td>5677.5</td>\n",
       "      <td>2.73</td>\n",
       "      <td>1.0</td>\n",
       "      <td>1.109</td>\n",
       "      <td>0.37</td>\n",
       "      <td>0.299</td>\n",
       "      <td>0.22</td>\n",
       "      <td>0.163</td>\n",
       "      <td>0.19</td>\n",
       "    </tr>\n",
       "    <tr>\n",
       "      <th>2024-09-01 03:00:00+00:00</th>\n",
       "      <td>5677.5</td>\n",
       "      <td>2.73</td>\n",
       "      <td>1.0</td>\n",
       "      <td>1.090</td>\n",
       "      <td>0.37</td>\n",
       "      <td>0.306</td>\n",
       "      <td>0.23</td>\n",
       "      <td>0.163</td>\n",
       "      <td>0.19</td>\n",
       "    </tr>\n",
       "    <tr>\n",
       "      <th>2024-09-01 04:00:00+00:00</th>\n",
       "      <td>5677.5</td>\n",
       "      <td>2.73</td>\n",
       "      <td>1.0</td>\n",
       "      <td>1.070</td>\n",
       "      <td>0.37</td>\n",
       "      <td>0.312</td>\n",
       "      <td>0.23</td>\n",
       "      <td>0.163</td>\n",
       "      <td>0.19</td>\n",
       "    </tr>\n",
       "  </tbody>\n",
       "</table>\n",
       "</div>"
      ],
      "text/plain": [
       "                                                grass_land_temperature_sum:C  \\\n",
       "lat       lon        validdate                                                 \n",
       "25.258638 -99.682006 2024-09-01 00:00:00+00:00                        5677.5   \n",
       "                     2024-09-01 01:00:00+00:00                        5677.5   \n",
       "                     2024-09-01 02:00:00+00:00                        5677.5   \n",
       "                     2024-09-01 03:00:00+00:00                        5677.5   \n",
       "                     2024-09-01 04:00:00+00:00                        5677.5   \n",
       "\n",
       "                                                evapotranspiration_24h:mm  \\\n",
       "lat       lon        validdate                                              \n",
       "25.258638 -99.682006 2024-09-01 00:00:00+00:00                       2.74   \n",
       "                     2024-09-01 01:00:00+00:00                       2.73   \n",
       "                     2024-09-01 02:00:00+00:00                       2.73   \n",
       "                     2024-09-01 03:00:00+00:00                       2.73   \n",
       "                     2024-09-01 04:00:00+00:00                       2.73   \n",
       "\n",
       "                                                leaf_wetness:idx  \\\n",
       "lat       lon        validdate                                     \n",
       "25.258638 -99.682006 2024-09-01 00:00:00+00:00               1.0   \n",
       "                     2024-09-01 01:00:00+00:00               1.0   \n",
       "                     2024-09-01 02:00:00+00:00               1.0   \n",
       "                     2024-09-01 03:00:00+00:00               1.0   \n",
       "                     2024-09-01 04:00:00+00:00               1.0   \n",
       "\n",
       "                                                soil_moisture_index_-5cm:idx  \\\n",
       "lat       lon        validdate                                                 \n",
       "25.258638 -99.682006 2024-09-01 00:00:00+00:00                         1.293   \n",
       "                     2024-09-01 01:00:00+00:00                         1.132   \n",
       "                     2024-09-01 02:00:00+00:00                         1.109   \n",
       "                     2024-09-01 03:00:00+00:00                         1.090   \n",
       "                     2024-09-01 04:00:00+00:00                         1.070   \n",
       "\n",
       "                                                volumetric_soil_water_-5cm:m3m3  \\\n",
       "lat       lon        validdate                                                    \n",
       "25.258638 -99.682006 2024-09-01 00:00:00+00:00                             0.40   \n",
       "                     2024-09-01 01:00:00+00:00                             0.38   \n",
       "                     2024-09-01 02:00:00+00:00                             0.37   \n",
       "                     2024-09-01 03:00:00+00:00                             0.37   \n",
       "                     2024-09-01 04:00:00+00:00                             0.37   \n",
       "\n",
       "                                                soil_moisture_index_-15cm:idx  \\\n",
       "lat       lon        validdate                                                  \n",
       "25.258638 -99.682006 2024-09-01 00:00:00+00:00                          0.633   \n",
       "                     2024-09-01 01:00:00+00:00                          0.291   \n",
       "                     2024-09-01 02:00:00+00:00                          0.299   \n",
       "                     2024-09-01 03:00:00+00:00                          0.306   \n",
       "                     2024-09-01 04:00:00+00:00                          0.312   \n",
       "\n",
       "                                                volumetric_soil_water_-15cm:m3m3  \\\n",
       "lat       lon        validdate                                                     \n",
       "25.258638 -99.682006 2024-09-01 00:00:00+00:00                              0.26   \n",
       "                     2024-09-01 01:00:00+00:00                              0.22   \n",
       "                     2024-09-01 02:00:00+00:00                              0.22   \n",
       "                     2024-09-01 03:00:00+00:00                              0.23   \n",
       "                     2024-09-01 04:00:00+00:00                              0.23   \n",
       "\n",
       "                                                soil_moisture_index_-50cm:idx  \\\n",
       "lat       lon        validdate                                                  \n",
       "25.258638 -99.682006 2024-09-01 00:00:00+00:00                          0.160   \n",
       "                     2024-09-01 01:00:00+00:00                          0.163   \n",
       "                     2024-09-01 02:00:00+00:00                          0.163   \n",
       "                     2024-09-01 03:00:00+00:00                          0.163   \n",
       "                     2024-09-01 04:00:00+00:00                          0.163   \n",
       "\n",
       "                                                volumetric_soil_water_-50cm:m3m3  \n",
       "lat       lon        validdate                                                    \n",
       "25.258638 -99.682006 2024-09-01 00:00:00+00:00                              0.19  \n",
       "                     2024-09-01 01:00:00+00:00                              0.19  \n",
       "                     2024-09-01 02:00:00+00:00                              0.19  \n",
       "                     2024-09-01 03:00:00+00:00                              0.19  \n",
       "                     2024-09-01 04:00:00+00:00                              0.19  "
      ]
     },
     "execution_count": 52,
     "metadata": {},
     "output_type": "execute_result"
    }
   ],
   "source": [
    "df.head()"
   ]
  },
  {
   "cell_type": "code",
   "execution_count": 53,
   "metadata": {},
   "outputs": [
    {
     "data": {
      "text/plain": [
       "Index(['lat', 'lon', 'validdate', 'grass_land_temperature_sum:C',\n",
       "       'evapotranspiration_24h:mm', 'leaf_wetness:idx',\n",
       "       'soil_moisture_index_-5cm:idx', 'volumetric_soil_water_-5cm:m3m3',\n",
       "       'soil_moisture_index_-15cm:idx', 'volumetric_soil_water_-15cm:m3m3',\n",
       "       'soil_moisture_index_-50cm:idx', 'volumetric_soil_water_-50cm:m3m3'],\n",
       "      dtype='object')"
      ]
     },
     "execution_count": 53,
     "metadata": {},
     "output_type": "execute_result"
    }
   ],
   "source": [
    "df = df.reset_index()\n",
    "df.columns"
   ]
  },
  {
   "cell_type": "code",
   "execution_count": 54,
   "metadata": {},
   "outputs": [
    {
     "data": {
      "text/html": [
       "<div>\n",
       "<style scoped>\n",
       "    .dataframe tbody tr th:only-of-type {\n",
       "        vertical-align: middle;\n",
       "    }\n",
       "\n",
       "    .dataframe tbody tr th {\n",
       "        vertical-align: top;\n",
       "    }\n",
       "\n",
       "    .dataframe thead th {\n",
       "        text-align: right;\n",
       "    }\n",
       "</style>\n",
       "<table border=\"1\" class=\"dataframe\">\n",
       "  <thead>\n",
       "    <tr style=\"text-align: right;\">\n",
       "      <th></th>\n",
       "      <th>lat</th>\n",
       "      <th>lon</th>\n",
       "      <th>validdate</th>\n",
       "      <th>grass_land_temperature_sum:C</th>\n",
       "      <th>evapotranspiration_24h:mm</th>\n",
       "      <th>leaf_wetness:idx</th>\n",
       "      <th>soil_moisture_index_-5cm:idx</th>\n",
       "      <th>volumetric_soil_water_-5cm:m3m3</th>\n",
       "      <th>soil_moisture_index_-15cm:idx</th>\n",
       "      <th>volumetric_soil_water_-15cm:m3m3</th>\n",
       "      <th>soil_moisture_index_-50cm:idx</th>\n",
       "      <th>volumetric_soil_water_-50cm:m3m3</th>\n",
       "    </tr>\n",
       "  </thead>\n",
       "  <tbody>\n",
       "    <tr>\n",
       "      <th>264</th>\n",
       "      <td>25.258638</td>\n",
       "      <td>-99.682006</td>\n",
       "      <td>2024-09-12 00:00:00+00:00</td>\n",
       "      <td>5955.2</td>\n",
       "      <td>4.07</td>\n",
       "      <td>0.0</td>\n",
       "      <td>0.463</td>\n",
       "      <td>0.24</td>\n",
       "      <td>0.702</td>\n",
       "      <td>0.29</td>\n",
       "      <td>0.434</td>\n",
       "      <td>0.24</td>\n",
       "    </tr>\n",
       "  </tbody>\n",
       "</table>\n",
       "</div>"
      ],
      "text/plain": [
       "           lat        lon                 validdate  \\\n",
       "264  25.258638 -99.682006 2024-09-12 00:00:00+00:00   \n",
       "\n",
       "     grass_land_temperature_sum:C  evapotranspiration_24h:mm  \\\n",
       "264                        5955.2                       4.07   \n",
       "\n",
       "     leaf_wetness:idx  soil_moisture_index_-5cm:idx  \\\n",
       "264               0.0                         0.463   \n",
       "\n",
       "     volumetric_soil_water_-5cm:m3m3  soil_moisture_index_-15cm:idx  \\\n",
       "264                             0.24                          0.702   \n",
       "\n",
       "     volumetric_soil_water_-15cm:m3m3  soil_moisture_index_-50cm:idx  \\\n",
       "264                              0.29                          0.434   \n",
       "\n",
       "     volumetric_soil_water_-50cm:m3m3  \n",
       "264                              0.24  "
      ]
     },
     "execution_count": 54,
     "metadata": {},
     "output_type": "execute_result"
    }
   ],
   "source": [
    "df2 = df[df['validdate'] == dt.datetime.strptime('2024-09-12T00:00:00+00:00', '%Y-%m-%dT%H:%M:%S%z')]\n",
    "df2.head()"
   ]
  },
  {
   "cell_type": "code",
   "execution_count": 55,
   "metadata": {},
   "outputs": [
    {
     "data": {
      "text/plain": [
       "(1, 12)"
      ]
     },
     "execution_count": 55,
     "metadata": {},
     "output_type": "execute_result"
    }
   ],
   "source": [
    "df2.shape"
   ]
  }
 ],
 "metadata": {
  "kernelspec": {
   "display_name": "base",
   "language": "python",
   "name": "python3"
  },
  "language_info": {
   "codemirror_mode": {
    "name": "ipython",
    "version": 3
   },
   "file_extension": ".py",
   "mimetype": "text/x-python",
   "name": "python",
   "nbconvert_exporter": "python",
   "pygments_lexer": "ipython3",
   "version": "3.11.5"
  }
 },
 "nbformat": 4,
 "nbformat_minor": 2
}
